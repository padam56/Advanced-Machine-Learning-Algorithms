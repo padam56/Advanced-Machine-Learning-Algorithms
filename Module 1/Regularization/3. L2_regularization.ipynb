{
 "cells": [
  {
   "cell_type": "markdown",
   "id": "e995ba77",
   "metadata": {},
   "source": [
    "The initial steps remain the same, where we import the necessary libraries, separate the dependent and independent variables, and split the dataset."
   ]
  },
  {
   "cell_type": "markdown",
   "id": "5593524b",
   "metadata": {},
   "source": [
    "L2 Regularization: Ridge Regularization or Tikhonov regularization:\n",
    "- Just like L1 regularization, L2 regularization also addresses overfitting by shrinking the model’s coefficients ensuring they remain small.\n",
    "- Unlike L1, which reduces the coefficients to absolute zero, L2 keeps them close to zero thereby retaining all the features in the model.\n",
    "- With L2 regularization, we add the sum of squares of all the coefficients to the loss function. This is weighted by the regularization parameter alpha. \n",
    "- Added term (alpha m square) - which penalizes the loss function for large coefficients.\n",
    "- How does L2 work? L2 regularization addresses multicollinearity and prevents overfitting by shrinking coefficient magnitudes without excluding any features i.e. no feature reduction! "
   ]
  },
  {
   "cell_type": "code",
   "execution_count": 1,
   "id": "3a56a20a",
   "metadata": {},
   "outputs": [],
   "source": [
    "# import the necessary libraries\n",
    "import os\n",
    "import pandas as pd\n",
    "import numpy as np\n",
    "import matplotlib.pyplot as plt\n",
    "from sklearn.model_selection import train_test_split\n",
    "from sklearn.linear_model import LinearRegression\n",
    "from sklearn.metrics import r2_score\n",
    "from sklearn.linear_model import RidgeCV, Ridge"
   ]
  },
  {
   "cell_type": "code",
   "execution_count": 2,
   "id": "9af0df7c",
   "metadata": {},
   "outputs": [],
   "source": [
    "os.chdir('C:/Users/Admin/Downloads')"
   ]
  },
  {
   "cell_type": "code",
   "execution_count": 3,
   "id": "282fa3cf",
   "metadata": {},
   "outputs": [],
   "source": [
    "# read the dataset\n",
    "df = pd.read_csv(\"Energy_Efficiency_Overfit_Dataset_Updated.csv\")"
   ]
  },
  {
   "cell_type": "code",
   "execution_count": 4,
   "id": "919fa39a",
   "metadata": {},
   "outputs": [],
   "source": [
    "# separate the dependent and independent variables\n",
    "X = df.drop('Energy_Efficiency_Rating', axis = 1)\n",
    "y = df['Energy_Efficiency_Rating']"
   ]
  },
  {
   "cell_type": "code",
   "execution_count": 5,
   "id": "a564aa42",
   "metadata": {},
   "outputs": [],
   "source": [
    "# split the data into train and test\n",
    "X_train, X_test, y_train, y_test = train_test_split(X, y, test_size=0.3, random_state=42)"
   ]
  },
  {
   "cell_type": "markdown",
   "id": "f27a12c5",
   "metadata": {},
   "source": [
    "# L2 Regularization on Original Dataset"
   ]
  },
  {
   "cell_type": "code",
   "execution_count": 6,
   "id": "17653051",
   "metadata": {},
   "outputs": [
    {
     "data": {
      "text/html": [
       "<style>#sk-container-id-1 {color: black;}#sk-container-id-1 pre{padding: 0;}#sk-container-id-1 div.sk-toggleable {background-color: white;}#sk-container-id-1 label.sk-toggleable__label {cursor: pointer;display: block;width: 100%;margin-bottom: 0;padding: 0.3em;box-sizing: border-box;text-align: center;}#sk-container-id-1 label.sk-toggleable__label-arrow:before {content: \"▸\";float: left;margin-right: 0.25em;color: #696969;}#sk-container-id-1 label.sk-toggleable__label-arrow:hover:before {color: black;}#sk-container-id-1 div.sk-estimator:hover label.sk-toggleable__label-arrow:before {color: black;}#sk-container-id-1 div.sk-toggleable__content {max-height: 0;max-width: 0;overflow: hidden;text-align: left;background-color: #f0f8ff;}#sk-container-id-1 div.sk-toggleable__content pre {margin: 0.2em;color: black;border-radius: 0.25em;background-color: #f0f8ff;}#sk-container-id-1 input.sk-toggleable__control:checked~div.sk-toggleable__content {max-height: 200px;max-width: 100%;overflow: auto;}#sk-container-id-1 input.sk-toggleable__control:checked~label.sk-toggleable__label-arrow:before {content: \"▾\";}#sk-container-id-1 div.sk-estimator input.sk-toggleable__control:checked~label.sk-toggleable__label {background-color: #d4ebff;}#sk-container-id-1 div.sk-label input.sk-toggleable__control:checked~label.sk-toggleable__label {background-color: #d4ebff;}#sk-container-id-1 input.sk-hidden--visually {border: 0;clip: rect(1px 1px 1px 1px);clip: rect(1px, 1px, 1px, 1px);height: 1px;margin: -1px;overflow: hidden;padding: 0;position: absolute;width: 1px;}#sk-container-id-1 div.sk-estimator {font-family: monospace;background-color: #f0f8ff;border: 1px dotted black;border-radius: 0.25em;box-sizing: border-box;margin-bottom: 0.5em;}#sk-container-id-1 div.sk-estimator:hover {background-color: #d4ebff;}#sk-container-id-1 div.sk-parallel-item::after {content: \"\";width: 100%;border-bottom: 1px solid gray;flex-grow: 1;}#sk-container-id-1 div.sk-label:hover label.sk-toggleable__label {background-color: #d4ebff;}#sk-container-id-1 div.sk-serial::before {content: \"\";position: absolute;border-left: 1px solid gray;box-sizing: border-box;top: 0;bottom: 0;left: 50%;z-index: 0;}#sk-container-id-1 div.sk-serial {display: flex;flex-direction: column;align-items: center;background-color: white;padding-right: 0.2em;padding-left: 0.2em;position: relative;}#sk-container-id-1 div.sk-item {position: relative;z-index: 1;}#sk-container-id-1 div.sk-parallel {display: flex;align-items: stretch;justify-content: center;background-color: white;position: relative;}#sk-container-id-1 div.sk-item::before, #sk-container-id-1 div.sk-parallel-item::before {content: \"\";position: absolute;border-left: 1px solid gray;box-sizing: border-box;top: 0;bottom: 0;left: 50%;z-index: -1;}#sk-container-id-1 div.sk-parallel-item {display: flex;flex-direction: column;z-index: 1;position: relative;background-color: white;}#sk-container-id-1 div.sk-parallel-item:first-child::after {align-self: flex-end;width: 50%;}#sk-container-id-1 div.sk-parallel-item:last-child::after {align-self: flex-start;width: 50%;}#sk-container-id-1 div.sk-parallel-item:only-child::after {width: 0;}#sk-container-id-1 div.sk-dashed-wrapped {border: 1px dashed gray;margin: 0 0.4em 0.5em 0.4em;box-sizing: border-box;padding-bottom: 0.4em;background-color: white;}#sk-container-id-1 div.sk-label label {font-family: monospace;font-weight: bold;display: inline-block;line-height: 1.2em;}#sk-container-id-1 div.sk-label-container {text-align: center;}#sk-container-id-1 div.sk-container {/* jupyter's `normalize.less` sets `[hidden] { display: none; }` but bootstrap.min.css set `[hidden] { display: none !important; }` so we also need the `!important` here to be able to override the default hidden behavior on the sphinx rendered scikit-learn.org. See: https://github.com/scikit-learn/scikit-learn/issues/21755 */display: inline-block !important;position: relative;}#sk-container-id-1 div.sk-text-repr-fallback {display: none;}</style><div id=\"sk-container-id-1\" class=\"sk-top-container\"><div class=\"sk-text-repr-fallback\"><pre>LinearRegression()</pre><b>In a Jupyter environment, please rerun this cell to show the HTML representation or trust the notebook. <br />On GitHub, the HTML representation is unable to render, please try loading this page with nbviewer.org.</b></div><div class=\"sk-container\" hidden><div class=\"sk-item\"><div class=\"sk-estimator sk-toggleable\"><input class=\"sk-toggleable__control sk-hidden--visually\" id=\"sk-estimator-id-1\" type=\"checkbox\" checked><label for=\"sk-estimator-id-1\" class=\"sk-toggleable__label sk-toggleable__label-arrow\">LinearRegression</label><div class=\"sk-toggleable__content\"><pre>LinearRegression()</pre></div></div></div></div></div>"
      ],
      "text/plain": [
       "LinearRegression()"
      ]
     },
     "execution_count": 6,
     "metadata": {},
     "output_type": "execute_result"
    }
   ],
   "source": [
    "# fti the linear regression model\n",
    "linear_model = LinearRegression()\n",
    "linear_model.fit(X_train, y_train)"
   ]
  },
  {
   "cell_type": "code",
   "execution_count": 7,
   "id": "ed6e0dd6",
   "metadata": {},
   "outputs": [
    {
     "data": {
      "text/plain": [
       "Wall_Area              0.302253\n",
       "Roof_Area              0.241509\n",
       "Window_Area            0.259234\n",
       "Overall_Height        -0.103891\n",
       "Outdoor_Temperature   -0.080775\n",
       "Humidity              -0.066741\n",
       "Noise_Feature_1       -1.157413\n",
       "Noise_Feature_2        0.456279\n",
       "Noise_Feature_3       -1.231271\n",
       "Noise_Feature_4       -0.009997\n",
       "Noise_Feature_5        0.815266\n",
       "Noise_Feature_6        1.790095\n",
       "Noise_Feature_7       -0.289109\n",
       "Noise_Feature_8        4.026383\n",
       "Noise_Feature_9        0.855612\n",
       "Noise_Feature_10      -0.977680\n",
       "Orientation_East       0.919734\n",
       "Orientation_North     -0.817762\n",
       "Orientation_South      1.497093\n",
       "Orientation_West      -1.599065\n",
       "Glazing_Type_Type_A    0.264858\n",
       "Glazing_Type_Type_B    0.139014\n",
       "Glazing_Type_Type_C   -0.403872\n",
       "dtype: float64"
      ]
     },
     "execution_count": 7,
     "metadata": {},
     "output_type": "execute_result"
    }
   ],
   "source": [
    "# Get the coefficients of the features before L2 regularization\n",
    "coefficients_before_l2 = pd.Series(linear_model.coef_, index=X_train.columns)\n",
    "coefficients_before_l2"
   ]
  },
  {
   "cell_type": "code",
   "execution_count": 8,
   "id": "ffe15f41",
   "metadata": {},
   "outputs": [
    {
     "data": {
      "text/plain": [
       "array([ 0.1       ,  0.62105263,  1.14210526,  1.66315789,  2.18421053,\n",
       "        2.70526316,  3.22631579,  3.74736842,  4.26842105,  4.78947368,\n",
       "        5.31052632,  5.83157895,  6.35263158,  6.87368421,  7.39473684,\n",
       "        7.91578947,  8.43684211,  8.95789474,  9.47894737, 10.        ])"
      ]
     },
     "execution_count": 8,
     "metadata": {},
     "output_type": "execute_result"
    }
   ],
   "source": [
    "# Create an array with 20 numbers equally spaced between 0 to 10\n",
    "alphas = np.linspace(0.1, 10, 20)\n",
    "alphas"
   ]
  },
  {
   "cell_type": "code",
   "execution_count": 9,
   "id": "c0b58ecb",
   "metadata": {
    "scrolled": true
   },
   "outputs": [
    {
     "data": {
      "text/html": [
       "<style>#sk-container-id-2 {color: black;}#sk-container-id-2 pre{padding: 0;}#sk-container-id-2 div.sk-toggleable {background-color: white;}#sk-container-id-2 label.sk-toggleable__label {cursor: pointer;display: block;width: 100%;margin-bottom: 0;padding: 0.3em;box-sizing: border-box;text-align: center;}#sk-container-id-2 label.sk-toggleable__label-arrow:before {content: \"▸\";float: left;margin-right: 0.25em;color: #696969;}#sk-container-id-2 label.sk-toggleable__label-arrow:hover:before {color: black;}#sk-container-id-2 div.sk-estimator:hover label.sk-toggleable__label-arrow:before {color: black;}#sk-container-id-2 div.sk-toggleable__content {max-height: 0;max-width: 0;overflow: hidden;text-align: left;background-color: #f0f8ff;}#sk-container-id-2 div.sk-toggleable__content pre {margin: 0.2em;color: black;border-radius: 0.25em;background-color: #f0f8ff;}#sk-container-id-2 input.sk-toggleable__control:checked~div.sk-toggleable__content {max-height: 200px;max-width: 100%;overflow: auto;}#sk-container-id-2 input.sk-toggleable__control:checked~label.sk-toggleable__label-arrow:before {content: \"▾\";}#sk-container-id-2 div.sk-estimator input.sk-toggleable__control:checked~label.sk-toggleable__label {background-color: #d4ebff;}#sk-container-id-2 div.sk-label input.sk-toggleable__control:checked~label.sk-toggleable__label {background-color: #d4ebff;}#sk-container-id-2 input.sk-hidden--visually {border: 0;clip: rect(1px 1px 1px 1px);clip: rect(1px, 1px, 1px, 1px);height: 1px;margin: -1px;overflow: hidden;padding: 0;position: absolute;width: 1px;}#sk-container-id-2 div.sk-estimator {font-family: monospace;background-color: #f0f8ff;border: 1px dotted black;border-radius: 0.25em;box-sizing: border-box;margin-bottom: 0.5em;}#sk-container-id-2 div.sk-estimator:hover {background-color: #d4ebff;}#sk-container-id-2 div.sk-parallel-item::after {content: \"\";width: 100%;border-bottom: 1px solid gray;flex-grow: 1;}#sk-container-id-2 div.sk-label:hover label.sk-toggleable__label {background-color: #d4ebff;}#sk-container-id-2 div.sk-serial::before {content: \"\";position: absolute;border-left: 1px solid gray;box-sizing: border-box;top: 0;bottom: 0;left: 50%;z-index: 0;}#sk-container-id-2 div.sk-serial {display: flex;flex-direction: column;align-items: center;background-color: white;padding-right: 0.2em;padding-left: 0.2em;position: relative;}#sk-container-id-2 div.sk-item {position: relative;z-index: 1;}#sk-container-id-2 div.sk-parallel {display: flex;align-items: stretch;justify-content: center;background-color: white;position: relative;}#sk-container-id-2 div.sk-item::before, #sk-container-id-2 div.sk-parallel-item::before {content: \"\";position: absolute;border-left: 1px solid gray;box-sizing: border-box;top: 0;bottom: 0;left: 50%;z-index: -1;}#sk-container-id-2 div.sk-parallel-item {display: flex;flex-direction: column;z-index: 1;position: relative;background-color: white;}#sk-container-id-2 div.sk-parallel-item:first-child::after {align-self: flex-end;width: 50%;}#sk-container-id-2 div.sk-parallel-item:last-child::after {align-self: flex-start;width: 50%;}#sk-container-id-2 div.sk-parallel-item:only-child::after {width: 0;}#sk-container-id-2 div.sk-dashed-wrapped {border: 1px dashed gray;margin: 0 0.4em 0.5em 0.4em;box-sizing: border-box;padding-bottom: 0.4em;background-color: white;}#sk-container-id-2 div.sk-label label {font-family: monospace;font-weight: bold;display: inline-block;line-height: 1.2em;}#sk-container-id-2 div.sk-label-container {text-align: center;}#sk-container-id-2 div.sk-container {/* jupyter's `normalize.less` sets `[hidden] { display: none; }` but bootstrap.min.css set `[hidden] { display: none !important; }` so we also need the `!important` here to be able to override the default hidden behavior on the sphinx rendered scikit-learn.org. See: https://github.com/scikit-learn/scikit-learn/issues/21755 */display: inline-block !important;position: relative;}#sk-container-id-2 div.sk-text-repr-fallback {display: none;}</style><div id=\"sk-container-id-2\" class=\"sk-top-container\"><div class=\"sk-text-repr-fallback\"><pre>RidgeCV(alphas=array([ 0.1       ,  0.62105263,  1.14210526,  1.66315789,  2.18421053,\n",
       "        2.70526316,  3.22631579,  3.74736842,  4.26842105,  4.78947368,\n",
       "        5.31052632,  5.83157895,  6.35263158,  6.87368421,  7.39473684,\n",
       "        7.91578947,  8.43684211,  8.95789474,  9.47894737, 10.        ]),\n",
       "        cv=10, scoring=&#x27;r2&#x27;)</pre><b>In a Jupyter environment, please rerun this cell to show the HTML representation or trust the notebook. <br />On GitHub, the HTML representation is unable to render, please try loading this page with nbviewer.org.</b></div><div class=\"sk-container\" hidden><div class=\"sk-item\"><div class=\"sk-estimator sk-toggleable\"><input class=\"sk-toggleable__control sk-hidden--visually\" id=\"sk-estimator-id-2\" type=\"checkbox\" checked><label for=\"sk-estimator-id-2\" class=\"sk-toggleable__label sk-toggleable__label-arrow\">RidgeCV</label><div class=\"sk-toggleable__content\"><pre>RidgeCV(alphas=array([ 0.1       ,  0.62105263,  1.14210526,  1.66315789,  2.18421053,\n",
       "        2.70526316,  3.22631579,  3.74736842,  4.26842105,  4.78947368,\n",
       "        5.31052632,  5.83157895,  6.35263158,  6.87368421,  7.39473684,\n",
       "        7.91578947,  8.43684211,  8.95789474,  9.47894737, 10.        ]),\n",
       "        cv=10, scoring=&#x27;r2&#x27;)</pre></div></div></div></div></div>"
      ],
      "text/plain": [
       "RidgeCV(alphas=array([ 0.1       ,  0.62105263,  1.14210526,  1.66315789,  2.18421053,\n",
       "        2.70526316,  3.22631579,  3.74736842,  4.26842105,  4.78947368,\n",
       "        5.31052632,  5.83157895,  6.35263158,  6.87368421,  7.39473684,\n",
       "        7.91578947,  8.43684211,  8.95789474,  9.47894737, 10.        ]),\n",
       "        cv=10, scoring='r2')"
      ]
     },
     "execution_count": 9,
     "metadata": {},
     "output_type": "execute_result"
    }
   ],
   "source": [
    "# Initialize RidgeCV to find the best alpha for L2 regularization\n",
    "ridge_cv = RidgeCV(alphas=alphas, cv=10, scoring='r2')\n",
    "ridge_cv.fit(X_train, y_train)"
   ]
  },
  {
   "cell_type": "code",
   "execution_count": 10,
   "id": "1250f40a",
   "metadata": {},
   "outputs": [
    {
     "data": {
      "text/plain": [
       "10.0"
      ]
     },
     "execution_count": 10,
     "metadata": {},
     "output_type": "execute_result"
    }
   ],
   "source": [
    "# Find the best alpha value\n",
    "best_alpha_ridge = ridge_cv.alpha_\n",
    "best_alpha_ridge"
   ]
  },
  {
   "cell_type": "code",
   "execution_count": 11,
   "id": "a079198f",
   "metadata": {},
   "outputs": [
    {
     "data": {
      "text/plain": [
       "24.736842105263158"
      ]
     },
     "execution_count": 11,
     "metadata": {},
     "output_type": "execute_result"
    }
   ],
   "source": [
    "# Create an array with 20 numbers equally spaced between 0 to 10\n",
    "alphas = np.linspace(10, 30, 20)\n",
    "# Initialize RidgeCV to find the best alpha for L2 regularization\n",
    "ridge_cv = RidgeCV(alphas=alphas, cv=10, scoring='r2')\n",
    "ridge_cv.fit(X_train, y_train)\n",
    "ridge_cv.alpha_"
   ]
  },
  {
   "cell_type": "code",
   "execution_count": 12,
   "id": "a0428da2",
   "metadata": {},
   "outputs": [],
   "source": [
    "# fit the coefficients after L2 regularization\n",
    "coefficients_after_l2 = pd.Series(ridge_cv.coef_, index=X_train.columns)"
   ]
  },
  {
   "cell_type": "code",
   "execution_count": 13,
   "id": "977e6e5a",
   "metadata": {
    "scrolled": true
   },
   "outputs": [
    {
     "data": {
      "text/html": [
       "<div>\n",
       "<style scoped>\n",
       "    .dataframe tbody tr th:only-of-type {\n",
       "        vertical-align: middle;\n",
       "    }\n",
       "\n",
       "    .dataframe tbody tr th {\n",
       "        vertical-align: top;\n",
       "    }\n",
       "\n",
       "    .dataframe thead th {\n",
       "        text-align: right;\n",
       "    }\n",
       "</style>\n",
       "<table border=\"1\" class=\"dataframe\">\n",
       "  <thead>\n",
       "    <tr style=\"text-align: right;\">\n",
       "      <th></th>\n",
       "      <th>Standard Regularization</th>\n",
       "      <th>After L2 Regularization</th>\n",
       "    </tr>\n",
       "  </thead>\n",
       "  <tbody>\n",
       "    <tr>\n",
       "      <th>Wall_Area</th>\n",
       "      <td>0.302253</td>\n",
       "      <td>0.300379</td>\n",
       "    </tr>\n",
       "    <tr>\n",
       "      <th>Roof_Area</th>\n",
       "      <td>0.241509</td>\n",
       "      <td>0.244928</td>\n",
       "    </tr>\n",
       "    <tr>\n",
       "      <th>Window_Area</th>\n",
       "      <td>0.259234</td>\n",
       "      <td>0.259251</td>\n",
       "    </tr>\n",
       "    <tr>\n",
       "      <th>Overall_Height</th>\n",
       "      <td>-0.103891</td>\n",
       "      <td>-0.059810</td>\n",
       "    </tr>\n",
       "    <tr>\n",
       "      <th>Outdoor_Temperature</th>\n",
       "      <td>-0.080775</td>\n",
       "      <td>-0.090001</td>\n",
       "    </tr>\n",
       "    <tr>\n",
       "      <th>Humidity</th>\n",
       "      <td>-0.066741</td>\n",
       "      <td>-0.066190</td>\n",
       "    </tr>\n",
       "    <tr>\n",
       "      <th>Noise_Feature_1</th>\n",
       "      <td>-1.157413</td>\n",
       "      <td>-0.426444</td>\n",
       "    </tr>\n",
       "    <tr>\n",
       "      <th>Noise_Feature_2</th>\n",
       "      <td>0.456279</td>\n",
       "      <td>0.211002</td>\n",
       "    </tr>\n",
       "    <tr>\n",
       "      <th>Noise_Feature_3</th>\n",
       "      <td>-1.231271</td>\n",
       "      <td>-0.358951</td>\n",
       "    </tr>\n",
       "    <tr>\n",
       "      <th>Noise_Feature_4</th>\n",
       "      <td>-0.009997</td>\n",
       "      <td>0.359567</td>\n",
       "    </tr>\n",
       "    <tr>\n",
       "      <th>Noise_Feature_5</th>\n",
       "      <td>0.815266</td>\n",
       "      <td>0.364230</td>\n",
       "    </tr>\n",
       "    <tr>\n",
       "      <th>Noise_Feature_6</th>\n",
       "      <td>1.790095</td>\n",
       "      <td>0.549308</td>\n",
       "    </tr>\n",
       "    <tr>\n",
       "      <th>Noise_Feature_7</th>\n",
       "      <td>-0.289109</td>\n",
       "      <td>-0.144183</td>\n",
       "    </tr>\n",
       "    <tr>\n",
       "      <th>Noise_Feature_8</th>\n",
       "      <td>4.026383</td>\n",
       "      <td>1.313388</td>\n",
       "    </tr>\n",
       "    <tr>\n",
       "      <th>Noise_Feature_9</th>\n",
       "      <td>0.855612</td>\n",
       "      <td>0.216612</td>\n",
       "    </tr>\n",
       "    <tr>\n",
       "      <th>Noise_Feature_10</th>\n",
       "      <td>-0.977680</td>\n",
       "      <td>-0.091581</td>\n",
       "    </tr>\n",
       "    <tr>\n",
       "      <th>Orientation_East</th>\n",
       "      <td>0.919734</td>\n",
       "      <td>0.512368</td>\n",
       "    </tr>\n",
       "    <tr>\n",
       "      <th>Orientation_North</th>\n",
       "      <td>-0.817762</td>\n",
       "      <td>-0.532346</td>\n",
       "    </tr>\n",
       "    <tr>\n",
       "      <th>Orientation_South</th>\n",
       "      <td>1.497093</td>\n",
       "      <td>0.869266</td>\n",
       "    </tr>\n",
       "    <tr>\n",
       "      <th>Orientation_West</th>\n",
       "      <td>-1.599065</td>\n",
       "      <td>-0.849289</td>\n",
       "    </tr>\n",
       "    <tr>\n",
       "      <th>Glazing_Type_Type_A</th>\n",
       "      <td>0.264858</td>\n",
       "      <td>0.116924</td>\n",
       "    </tr>\n",
       "    <tr>\n",
       "      <th>Glazing_Type_Type_B</th>\n",
       "      <td>0.139014</td>\n",
       "      <td>0.084735</td>\n",
       "    </tr>\n",
       "    <tr>\n",
       "      <th>Glazing_Type_Type_C</th>\n",
       "      <td>-0.403872</td>\n",
       "      <td>-0.201659</td>\n",
       "    </tr>\n",
       "  </tbody>\n",
       "</table>\n",
       "</div>"
      ],
      "text/plain": [
       "                     Standard Regularization  After L2 Regularization\n",
       "Wall_Area                           0.302253                 0.300379\n",
       "Roof_Area                           0.241509                 0.244928\n",
       "Window_Area                         0.259234                 0.259251\n",
       "Overall_Height                     -0.103891                -0.059810\n",
       "Outdoor_Temperature                -0.080775                -0.090001\n",
       "Humidity                           -0.066741                -0.066190\n",
       "Noise_Feature_1                    -1.157413                -0.426444\n",
       "Noise_Feature_2                     0.456279                 0.211002\n",
       "Noise_Feature_3                    -1.231271                -0.358951\n",
       "Noise_Feature_4                    -0.009997                 0.359567\n",
       "Noise_Feature_5                     0.815266                 0.364230\n",
       "Noise_Feature_6                     1.790095                 0.549308\n",
       "Noise_Feature_7                    -0.289109                -0.144183\n",
       "Noise_Feature_8                     4.026383                 1.313388\n",
       "Noise_Feature_9                     0.855612                 0.216612\n",
       "Noise_Feature_10                   -0.977680                -0.091581\n",
       "Orientation_East                    0.919734                 0.512368\n",
       "Orientation_North                  -0.817762                -0.532346\n",
       "Orientation_South                   1.497093                 0.869266\n",
       "Orientation_West                   -1.599065                -0.849289\n",
       "Glazing_Type_Type_A                 0.264858                 0.116924\n",
       "Glazing_Type_Type_B                 0.139014                 0.084735\n",
       "Glazing_Type_Type_C                -0.403872                -0.201659"
      ]
     },
     "execution_count": 13,
     "metadata": {},
     "output_type": "execute_result"
    }
   ],
   "source": [
    "# Compare the coefficients before and after L2 regularization\n",
    "coefficients_comparison = pd.DataFrame({\n",
    "    'Standard Regularization': coefficients_before_l2,\n",
    "    'After L2 Regularization': coefficients_after_l2\n",
    "})\n",
    "\n",
    "coefficients_comparison"
   ]
  },
  {
   "cell_type": "code",
   "execution_count": 14,
   "id": "7cfd278e",
   "metadata": {},
   "outputs": [
    {
     "data": {
      "text/plain": [
       "(0.944735810754923, 0.8721256088178195)"
      ]
     },
     "execution_count": 14,
     "metadata": {},
     "output_type": "execute_result"
    }
   ],
   "source": [
    "# R-squared scores for the Ridge model\n",
    "r2_train_ridge = ridge_cv.score(X_train, y_train)\n",
    "r2_test_ridge = ridge_cv.score(X_test, y_test)\n",
    "r2_train_ridge, r2_test_ridge"
   ]
  },
  {
   "cell_type": "markdown",
   "id": "5972c350",
   "metadata": {},
   "source": [
    "Here we can see that the ridge model achieved an r squared value of about 0.94 on training set, which is slightly higher than 0.93 achieved in the L1 regularization. When we step into the testing round, the rage model presented an r squared value of approximately 0.87, which is similar to L1 model. This is a slightly more overfitted model compared to L1 regularization. While L1 helped us in feature selection by zeroing out the less important features, L2 kept all the features but reduced the coefficients of irrelevant features.\n",
    "\n",
    "What if you could apply both L1 and L2 regularization simultaneously in a model? In machine learning, this practical solution is known as Elastic net regularization."
   ]
  }
 ],
 "metadata": {
  "kernelspec": {
   "display_name": "Python 3 (ipykernel)",
   "language": "python",
   "name": "python3"
  },
  "language_info": {
   "codemirror_mode": {
    "name": "ipython",
    "version": 3
   },
   "file_extension": ".py",
   "mimetype": "text/x-python",
   "name": "python",
   "nbconvert_exporter": "python",
   "pygments_lexer": "ipython3",
   "version": "3.11.5"
  }
 },
 "nbformat": 4,
 "nbformat_minor": 5
}
